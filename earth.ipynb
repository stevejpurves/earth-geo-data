{
 "cells": [
  {
   "cell_type": "code",
   "execution_count": 1,
   "id": "896cd294-b5b3-4dde-a5b2-cf17f0527581",
   "metadata": {},
   "outputs": [],
   "source": [
    "from localtileserver import examples, get_leaflet_tile_layer, TileClient, examples\n",
    "from ipyleaflet import Map, LayersControl"
   ]
  },
  {
   "cell_type": "markdown",
   "id": "783cfce2-55d8-41ff-a346-674d80b50171",
   "metadata": {},
   "source": [
    "## Datasets\n",
    "\n",
    " - Global Annual Methane Concentraton - https://energydata.info/dataset/global-annual-average-methane-concentration-2016"
   ]
  },
  {
   "cell_type": "code",
   "execution_count": 2,
   "id": "7d29661b-06f5-452e-83c4-104c87bc84f5",
   "metadata": {},
   "outputs": [],
   "source": [
    "# First, create a tile server from local raster file\n",
    "methane = TileClient('2016Averageppb.tif')\n",
    "elevation = examples.get_elevation()\n"
   ]
  },
  {
   "cell_type": "code",
   "execution_count": 18,
   "id": "2e0b6a77-6424-4871-9a19-ff2731f6185f",
   "metadata": {},
   "outputs": [],
   "source": [
    "opacity = 0.5 # @param\n",
    "layer = 'methane' # @param\n",
    "colormap = 'plasma' # @param\n",
    "zoom = 1 # @param"
   ]
  },
  {
   "cell_type": "code",
   "execution_count": 26,
   "id": "48321afc-1090-4567-b84a-eb47509f7210",
   "metadata": {},
   "outputs": [],
   "source": [
    "methane_layer = get_leaflet_tile_layer(methane, name='Annual Average Methane', palette=colormap, opacity=opacity)"
   ]
  },
  {
   "cell_type": "code",
   "execution_count": 27,
   "id": "bc1dbb0f-5cde-42da-be1e-266a2d03a547",
   "metadata": {},
   "outputs": [],
   "source": [
    "elevation_layer = get_leaflet_tile_layer(elevation, name='Global Elevation Data',\n",
    "                           band=1, vmin=-500, vmax=5000,\n",
    "                           palette=colormap,\n",
    "                           opacity=opacity)"
   ]
  },
  {
   "cell_type": "code",
   "execution_count": 28,
   "id": "cfd60b77-4b9e-4e4d-ab71-2739247afe3e",
   "metadata": {},
   "outputs": [
    {
     "data": {
      "application/vnd.jupyter.widget-view+json": {
       "model_id": "ec32f49932b2429984d13eb6b604c5fc",
       "version_major": 2,
       "version_minor": 0
      },
      "text/plain": [
       "Map(center=[0.0, 0.0], controls=(ZoomControl(options=['position', 'zoom_in_text', 'zoom_in_title', 'zoom_out_t…"
      ]
     },
     "metadata": {},
     "output_type": "display_data"
    }
   ],
   "source": [
    "if layer == 'elevation':\n",
    "    data_layer = elevation_layer\n",
    "    data_center = elevation.center()      \n",
    "else:\n",
    "    data_layer = methane_layer\n",
    "    data_center = methane.center()\n",
    "  \n",
    "\n",
    "# Create ipyleaflet map, add layers, add controls, and display\n",
    "m = Map(center=data_center, zoom=zoom)\n",
    "\n",
    "if layer == 'elevation':\n",
    "    m.add_layer(elevation_layer)\n",
    "else:\n",
    "    m.add_layer(methane_layer)\n",
    "\n",
    "control = LayersControl(position='topright')\n",
    "m.add_control(control)\n",
    "\n",
    "m"
   ]
  },
  {
   "cell_type": "code",
   "execution_count": null,
   "id": "d7c205dd-c11e-4660-97ac-27435cafaa8a",
   "metadata": {},
   "outputs": [],
   "source": []
  }
 ],
 "metadata": {
  "kernelspec": {
   "display_name": "Python 3 (ipykernel)",
   "language": "python",
   "name": "python3"
  },
  "language_info": {
   "codemirror_mode": {
    "name": "ipython",
    "version": 3
   },
   "file_extension": ".py",
   "mimetype": "text/x-python",
   "name": "python",
   "nbconvert_exporter": "python",
   "pygments_lexer": "ipython3",
   "version": "3.10.2"
  }
 },
 "nbformat": 4,
 "nbformat_minor": 5
}
